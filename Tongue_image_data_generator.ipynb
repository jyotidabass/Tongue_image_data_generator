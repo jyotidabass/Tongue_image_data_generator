{
  "nbformat": 4,
  "nbformat_minor": 0,
  "metadata": {
    "colab": {
      "name": "Tongue image_data generator.ipynb",
      "provenance": [],
      "authorship_tag": "ABX9TyMwLZxbkzN9hwrgy4tv/Tjc",
      "include_colab_link": true
    },
    "kernelspec": {
      "name": "python3",
      "display_name": "Python 3"
    },
    "language_info": {
      "name": "python"
    }
  },
  "cells": [
    {
      "cell_type": "markdown",
      "metadata": {
        "id": "view-in-github",
        "colab_type": "text"
      },
      "source": [
        "<a href=\"https://colab.research.google.com/github/jyotidabass/Tongue_image_data_generator/blob/main/Tongue_image_data_generator.ipynb\" target=\"_parent\"><img src=\"https://colab.research.google.com/assets/colab-badge.svg\" alt=\"Open In Colab\"/></a>"
      ]
    },
    {
      "cell_type": "code",
      "execution_count": null,
      "metadata": {
        "id": "7atu4p3sS2PN"
      },
      "outputs": [],
      "source": [
        "from keras.preprocessing.image import ImageDataGenerator, array_to_img, img_to_array, load_img\n",
        "\n",
        "# eng : We describe the data augmentation techniques we use.\n",
        "# tr : Kullanacağımız veri artırma tekniklerini tanımlıyoruz\n",
        "datagen = ImageDataGenerator(rotation_range=40,\n",
        "                             width_shift_range=0.2,\n",
        "                             height_shift_range=0.2,\n",
        "                             shear_range=0.2,\n",
        "                             zoom_range=0.2,\n",
        "                             horizontal_flip=True,\n",
        "                             vertical_flip=True,\n",
        "                             fill_mode='nearest')\n",
        "\n",
        "# eng : load image\n",
        "# tr : Görüntü Yükleme İşlemi\n",
        "img = load_img('/content/cropped-1E6AE7E2-F4F6-4EFC-AFEC-75B6AF988C47 - Abhishek Karekar.jpg')\n",
        "\n",
        "#eng : We convert the image to array\n",
        "#tr : görüntüyü diziye çeviriyoruz\n",
        "x = img_to_array(img)\n",
        "x = x.reshape((1,)+x.shape)\n",
        "\n",
        "# eng : We make 20 different images from a single Image\n",
        "# tr : Tek görüntüden 20 farklı görüntü yapıyoruz\n",
        "\n",
        "# eng : reproduced_photos --> We save the duplicated images here\n",
        "# tr : reproduced_photos --> Çoğaltılan görünütleri buraya kayıt ediyoruz\n",
        "i = 0\n",
        "for batch in datagen.flow(x, batch_size=1,\n",
        "                          save_to_dir='sample_data',\n",
        "                          save_format='jpg'):\n",
        "    i+=1\n",
        "    if i > 20:\n",
        "        break"
      ]
    }
  ]
}